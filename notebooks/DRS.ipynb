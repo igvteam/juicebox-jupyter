{
  "cells": [
    {
      "cell_type": "markdown",
      "metadata": {
        "id": "view-in-github",
        "colab_type": "text"
      },
      "source": [
        "<a href=\"https://colab.research.google.com/github/igvteam/juicebox-notebook/blob/main/notebooks/DRS.ipynb\" target=\"_parent\"><img src=\"https://colab.research.google.com/assets/colab-badge.svg\" alt=\"Open In Colab\"/></a>"
      ]
    },
    {
      "cell_type": "markdown",
      "id": "58cccd0e",
      "metadata": {
        "id": "58cccd0e"
      },
      "source": [
        "# Exploring DRS uris\n",
        "\n",
        "Reference: https://ga4gh.github.io/data-repository-service-schemas/preview/release/drs-1.2.0/docs/#section/DRS-URIs"
      ]
    },
    {
      "cell_type": "markdown",
      "source": [
        "Example drs urls to cram and index files"
      ],
      "metadata": {
        "id": "ezyzNN8SRv3_"
      },
      "id": "ezyzNN8SRv3_"
    },
    {
      "cell_type": "code",
      "execution_count": null,
      "id": "c35a71cd",
      "metadata": {
        "id": "c35a71cd"
      },
      "outputs": [],
      "source": [
        "cramURI = \"drs://dg.4503:dg.4503/c64fded3-459b-4fca-82bc-35d154e9aa91\"\n",
        "craiURI = \"drs://dg.4503:dg.4503/a5d35aac-ec73-46cc-9fb0-13503717aac4\""
      ]
    },
    {
      "cell_type": "markdown",
      "source": [
        "**1. Get prefix and identifier**\n"
      ],
      "metadata": {
        "id": "UKkhqSsjGZsW"
      },
      "id": "UKkhqSsjGZsW"
    },
    {
      "cell_type": "code",
      "source": [
        "idx = craiURI.find(':', 6)\n",
        "prefix = craiURI[6:idx]\n",
        "accession = craiURI[idx+1:]\n",
        "print(prefix)\n",
        "print(accession)"
      ],
      "metadata": {
        "id": "28sDEJWjE64r"
      },
      "id": "28sDEJWjE64r",
      "execution_count": null,
      "outputs": []
    },
    {
      "cell_type": "markdown",
      "source": [
        "## Get urlPattern via identifiers.org (2 calls required)"
      ],
      "metadata": {
        "id": "eD0QKVQyTKFN"
      },
      "id": "eD0QKVQyTKFN"
    },
    {
      "cell_type": "markdown",
      "source": [
        "**1. Get namespace info**"
      ],
      "metadata": {
        "id": "kJL2Kr0jSb2a"
      },
      "id": "kJL2Kr0jSb2a"
    },
    {
      "cell_type": "code",
      "execution_count": null,
      "id": "c0d2bd02",
      "metadata": {
        "id": "c0d2bd02"
      },
      "outputs": [],
      "source": [
        "import requests\n",
        "import json\n",
        "\n",
        "namespaceEndpoint = \"https://registry.api.identifiers.org/restApi/namespaces/search/findByPrefix?prefix=\" + prefix\n",
        "metaData = requests.get(namespaceEndpoint).json()\n",
        "namespaceHref = metaData[\"_links\"][\"namespace\"][\"href\"]\n",
        "idx = namespaceHref.rfind(\"/\")\n",
        "namespace = namespaceHref[idx+1:]\n",
        "info = requests.get(\"https://registry.api.identifiers.org/restApi/resources/search/findAllByNamespaceId?id=\" + namespace).json()\n",
        "\n"
      ]
    },
    {
      "cell_type": "markdown",
      "source": [
        "**2. Get url pattern**"
      ],
      "metadata": {
        "id": "SAcLkaEzShXq"
      },
      "id": "SAcLkaEzShXq"
    },
    {
      "cell_type": "code",
      "source": [
        "urlPattern = info[\"_embedded\"][\"resources\"][0][\"urlPattern\"]\n",
        "url = urlPattern.replace(\"{$id}\", accession)\n",
        "objectInfo = requests.get(url).json()"
      ],
      "metadata": {
        "id": "GVgAs1pML5NR"
      },
      "id": "GVgAs1pML5NR",
      "execution_count": null,
      "outputs": []
    },
    {
      "cell_type": "markdown",
      "source": [
        "## Get access methods -- these contain URLs used by IGV"
      ],
      "metadata": {
        "id": "xGZe5uELS92i"
      },
      "id": "xGZe5uELS92i"
    },
    {
      "cell_type": "code",
      "source": [
        "accessMethods = objectInfo[\"access_methods\"]\n",
        "print(json.dumps(accessMethods, indent=2))"
      ],
      "metadata": {
        "id": "zpsUaN-KQTyo"
      },
      "id": "zpsUaN-KQTyo",
      "execution_count": null,
      "outputs": []
    },
    {
      "cell_type": "code",
      "source": [],
      "metadata": {
        "id": "XbADddAoQrLV"
      },
      "id": "XbADddAoQrLV",
      "execution_count": null,
      "outputs": []
    },
    {
      "cell_type": "markdown",
      "source": [
        "Get URL pattern - n2t.net"
      ],
      "metadata": {
        "id": "F_J5gG7pMx09"
      },
      "id": "F_J5gG7pMx09"
    },
    {
      "cell_type": "code",
      "source": [
        "n2tURL = \"https://n2t.net/drs.\" + prefix\n",
        "response = requests.get(n2tURL )\n",
        "print(response.text)"
      ],
      "metadata": {
        "id": "Ok6pxPxNM3A2"
      },
      "id": "Ok6pxPxNM3A2",
      "execution_count": null,
      "outputs": []
    }
  ],
  "metadata": {
    "kernelspec": {
      "display_name": "Python 3 (ipykernel)",
      "language": "python",
      "name": "python3"
    },
    "language_info": {
      "codemirror_mode": {
        "name": "ipython",
        "version": 3
      },
      "file_extension": ".py",
      "mimetype": "text/x-python",
      "name": "python",
      "nbconvert_exporter": "python",
      "pygments_lexer": "ipython3",
      "version": "3.9.5"
    },
    "colab": {
      "provenance": [],
      "include_colab_link": true
    }
  },
  "nbformat": 4,
  "nbformat_minor": 5
}