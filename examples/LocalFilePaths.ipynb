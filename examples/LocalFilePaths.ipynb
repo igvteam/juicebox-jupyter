{
 "cells": [
  {
   "cell_type": "markdown",
   "metadata": {},
   "source": [
    "## Example of loading a map from a local file.\n",
    "\n",
    "**Jupyter Notebook and Colab only -- will not work with JupyterLab.**\n",
    "\n",
    "**Note: To use download the test file below and update \"path\" to the local file absolute path**\n",
    "\n",
    "```https://s3.amazonaws.com/igv.org.test/data/hic/HCT-116_Cohesin_Loss.hic```"
   ]
  },
  {
   "cell_type": "code",
   "execution_count": null,
   "metadata": {},
   "outputs": [],
   "source": [
    "pip install juicebox-notebook\n"
   ]
  },
  {
   "cell_type": "code",
   "execution_count": null,
   "metadata": {
    "pycharm": {
     "name": "#%%\n"
    }
   },
   "outputs": [],
   "source": [
    "import juicebox_notebook\n",
    "\n",
    "juicebox_notebook.init()\n",
    "\n",
    "b = juicebox_notebook.Browser(\n",
    "    {\n",
    "        \"name\": \"GM12878\",\n",
    "        \"path\": \"/your/local/path/HCT-116_Untreated.hic\"\n",
    "    }\n",
    ")\n",
    "\n",
    "\n"
   ]
  }
 ],
 "metadata": {
  "kernelspec": {
   "display_name": "Python 3 (ipykernel)",
   "language": "python",
   "name": "python3"
  },
  "language_info": {
   "codemirror_mode": {
    "name": "ipython",
    "version": 3
   },
   "file_extension": ".py",
   "mimetype": "text/x-python",
   "name": "python",
   "nbconvert_exporter": "python",
   "pygments_lexer": "ipython3",
   "version": "3.9.1"
  }
 },
 "nbformat": 4,
 "nbformat_minor": 2
}