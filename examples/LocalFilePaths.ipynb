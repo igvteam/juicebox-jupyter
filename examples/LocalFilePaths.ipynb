{
 "cells": [
  {
   "cell_type": "markdown",
   "metadata": {},
   "source": [
    "## Example of loading a map and track from local files.\n",
    "\n",
    "**Note: To use update the 2 \"url\" fields to local file paths**"
   ]
  },
  {
   "cell_type": "code",
   "execution_count": null,
   "metadata": {},
   "outputs": [],
   "source": [
    "pip install juicebox-notebook"
   ]
  },
  {
   "cell_type": "markdown",
   "metadata": {},
   "source": [
    "### Load a map and track in the intial config"
   ]
  },
  {
   "cell_type": "code",
   "execution_count": null,
   "metadata": {
    "pycharm": {
     "name": "#%%\n"
    }
   },
   "outputs": [],
   "source": [
    "import juicebox_notebook\n",
    "\n",
    "juicebox_notebook.init()\n",
    "\n",
    "b = juicebox_notebook.Browser(\n",
    "    {\n",
    "        \"name\": \"GM12878\",\n",
    "        \"path\": \"/Volumes/GoogleDrive/Shared drives/IGV/TestData/juicebox/HCT-116_Untreated.hic\",\n",
    "        \"tracks\": [\n",
    "            {\n",
    "                \"path\": \"/Volumes/GoogleDrive/Shared drives/IGV/TestData/juicebox/CTCF_Untreated.bw\",\n",
    "                \"type\": \"wig\",\n",
    "                \"name\": \"CTCF\",\n",
    "                \"color\": \"rgb(22, 129, 198)\"\n",
    "            }\n",
    "        ]\n",
    "    }\n",
    "\n",
    ")\n",
    "\n"
   ]
  },
  {
   "cell_type": "markdown",
   "metadata": {
    "pycharm": {
     "name": "#%% md\n"
    }
   },
   "source": [
    "### Load a map and track dynamically"
   ]
  },
  {
   "cell_type": "code",
   "execution_count": null,
   "metadata": {},
   "outputs": [],
   "source": [
    "import juicebox_notebook\n",
    "\n",
    "juicebox_notebook.init()\n",
    "\n",
    "b = juicebox_notebook.Browser({})\n",
    "\n",
    "b.load_map({\n",
    "  \"name\": \"GM12878\",\n",
    "  \"path\": \"/Volumes/GoogleDrive/Shared drives/IGV/TestData/juicebox/HCT-116_Untreated.hic\"\n",
    "})\n",
    "\n",
    "b.load_track({\n",
    "  \"path\": \"/Volumes/GoogleDrive/Shared drives/IGV/TestData/juicebox/CTCF_Untreated.bw\",\n",
    "  \"type\": \"wig\",\n",
    "  \"name\": \"CTCF\",\n",
    "  \"color\": \"rgb(22, 129, 198)\"\n",
    "})\n"
   ]
  },
  {
   "cell_type": "code",
   "execution_count": null,
   "metadata": {},
   "outputs": [],
   "source": []
  }
 ],
 "metadata": {
  "kernelspec": {
   "display_name": "Python 3 (ipykernel)",
   "language": "python",
   "name": "python3"
  },
  "language_info": {
   "codemirror_mode": {
    "name": "ipython",
    "version": 3
   },
   "file_extension": ".py",
   "mimetype": "text/x-python",
   "name": "python",
   "nbconvert_exporter": "python",
   "pygments_lexer": "ipython3",
   "version": "3.9.1"
  }
 },
 "nbformat": 4,
 "nbformat_minor": 2
}
