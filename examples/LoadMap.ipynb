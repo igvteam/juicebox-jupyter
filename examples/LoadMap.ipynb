{
 "cells": [
  {
   "cell_type": "code",
   "execution_count": 1,
   "metadata": {},
   "outputs": [],
   "source": [
    "import juicebox"
   ]
  },
  {
   "cell_type": "code",
   "execution_count": 2,
   "metadata": {
    "pycharm": {
     "name": "#%%\n"
    }
   },
   "outputs": [],
   "source": [
    "b = juicebox.Browser(\n",
    "    {\n",
    "        \"name\": \"GM12878\",\n",
    "        \"url\": \"https://www.encodeproject.org/files/ENCFF179HVU/@@download/ENCFF179HVU.hic\",\n",
    "        \"tracks\": [\n",
    "            {\n",
    "                \"url\": \"https://drive.google.com/file/d/1rM76O3OHnM7WhRNDfTQOYVyx86D1hhmD/view?usp=drive_web\",\n",
    "                \"name\": \"ENCFF001EQU.bigWig\",\n",
    "                \"color\": \"rgb(22, 129, 198)\"\n",
    "            }\n",
    "        ]\n",
    "    }\n",
    "\n",
    ")"
   ]
  }
 ],
 "metadata": {
  "kernelspec": {
   "display_name": "Python 3 (ipykernel)",
   "language": "python",
   "name": "python3"
  },
  "language_info": {
   "codemirror_mode": {
    "name": "ipython",
    "version": 3
   },
   "file_extension": ".py",
   "mimetype": "text/x-python",
   "name": "python",
   "nbconvert_exporter": "python",
   "pygments_lexer": "ipython3",
   "version": "3.9.1"
  }
 },
 "nbformat": 4,
 "nbformat_minor": 2
}