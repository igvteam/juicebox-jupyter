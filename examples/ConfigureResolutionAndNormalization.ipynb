{
 "cells": [
  {
   "cell_type": "code",
   "execution_count": null,
   "metadata": {},
   "outputs": [],
   "source": [
    "pip install juicebox-notebook"
   ]
  },
  {
   "cell_type": "code",
   "execution_count": null,
   "metadata": {
    "pycharm": {
     "name": "#%%\n"
    }
   },
   "outputs": [],
   "source": [
    "import juicebox_notebook\n",
    "\n",
    "juicebox_notebook.init()\n",
    "\n",
    "b = juicebox_notebook.Browser({\n",
    "                \"url\": \"https://www.encodeproject.org/files/ENCFF718AWL/@@download/ENCFF718AWL.hic\",\n",
    "                \"name\": \"GM12878\",\n",
    "                \"locus\": \"ace\",\n",
    "                \"normalization\": \"VC_SQRT\",\n",
    "                \"resolution\": \"25000\",\n",
    "            })\n"
   ]
  }
 ],
 "metadata": {
  "kernelspec": {
   "display_name": "Python 3 (ipykernel)",
   "language": "python",
   "name": "python3"
  },
  "language_info": {
   "codemirror_mode": {
    "name": "ipython",
    "version": 3
   },
   "file_extension": ".py",
   "mimetype": "text/x-python",
   "name": "python",
   "nbconvert_exporter": "python",
   "pygments_lexer": "ipython3",
   "version": "3.9.1"
  }
 },
 "nbformat": 4,
 "nbformat_minor": 2
}