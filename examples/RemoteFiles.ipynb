{
 "cells": [
  {
   "cell_type": "markdown",
   "metadata": {
    "pycharm": {
     "name": "#%% md\n"
    }
   },
   "source": [
    "**Install juicebox-notebook**"
   ]
  },
  {
   "cell_type": "code",
   "execution_count": null,
   "metadata": {
    "pycharm": {
     "name": "#%%\n"
    }
   },
   "outputs": [],
   "source": [
    "pip install juicebox-notebook"
   ]
  },
  {
   "cell_type": "markdown",
   "metadata": {
    "pycharm": {
     "name": "#%% md\n"
    }
   },
   "source": [
    "**Load map and tracks during Browser initialization**"
   ]
  },
  {
   "cell_type": "code",
   "execution_count": null,
   "outputs": [],
   "source": [
    "import juicebox_notebook\n",
    "\n",
    "juicebox_notebook.init()\n",
    "\n",
    "b = juicebox_notebook.Browser({\n",
    "                \"url\": \"https://www.encodeproject.org/files/ENCFF718AWL/@@download/ENCFF718AWL.hic\",\n",
    "                \"name\": \"GM12878\",\n",
    "                \"locus\": \"ace\",\n",
    "                \"normalization\": \"VC_SQRT\",\n",
    "                \"resolution\": \"25000\",\n",
    "                \"tracks\":     [{\n",
    "                                  \"url\": \"https://www.encodeproject.org/files/ENCFF000ARJ/@@download/ENCFF000ARJ.bigWig\",\n",
    "                                  \"name\": \"CTCF\",\n",
    "                                  \"color\": \"#ff8802\"\n",
    "                              }]\n",
    "            })\n"
   ],
   "metadata": {
    "collapsed": false,
    "pycharm": {
     "name": "#%%\n"
    }
   }
  },
  {
   "cell_type": "markdown",
   "source": [
    "**Load map and tracks dynamically**"
   ],
   "metadata": {
    "collapsed": false
   }
  },
  {
   "cell_type": "code",
   "execution_count": null,
   "outputs": [],
   "source": [
    "import juicebox_notebook\n",
    "\n",
    "juicebox_notebook.init()\n",
    "\n",
    "b = juicebox_notebook.Browser({})\n",
    "\n",
    "b.load_map({\n",
    "    \"url\": \"https://www.encodeproject.org/files/ENCFF718AWL/@@download/ENCFF718AWL.hic\",\n",
    "    \"name\": \"GM12878\"\n",
    "})\n",
    "\n",
    "b.load_track_list(\n",
    "    [{\n",
    "        \"url\": \"https://www.encodeproject.org/files/ENCFF000ARJ/@@download/ENCFF000ARJ.bigWig\",\n",
    "        \"name\": \"CTCF\",\n",
    "        \"color\": \"#ff8802\"\n",
    "    }]\n",
    ")\n",
    "\n",
    "\n"
   ],
   "metadata": {
    "collapsed": false,
    "pycharm": {
     "name": "#%%\n"
    }
   }
  },
  {
   "cell_type": "code",
   "execution_count": null,
   "metadata": {
    "pycharm": {
     "name": "#%%\n"
    }
   },
   "outputs": [],
   "source": [
    "import juicebox_notebook\n",
    "\n",
    "juicebox_notebook.init()\n",
    "\n",
    "b = juicebox_notebook.Browser({})\n",
    "\n",
    "b.load_map({\n",
    "    \"url\": \"https://www.encodeproject.org/files/ENCFF718AWL/@@download/ENCFF718AWL.hic\",\n",
    "    \"name\": \"GM12878\"\n",
    "})\n",
    "\n",
    "b.load_track_list(\n",
    "    [{\n",
    "        \"url\": \"https://www.encodeproject.org/files/ENCFF000ARJ/@@download/ENCFF000ARJ.bigWig\",\n",
    "        \"name\": \"CTCF\",\n",
    "        \"color\": \"#ff8802\"\n",
    "    }]\n",
    ")\n",
    "\n",
    "\n"
   ]
  },
  {
   "cell_type": "markdown",
   "metadata": {},
   "source": [
    "**Load map and tracks dynamically**"
   ]
  },
  {
   "cell_type": "code",
   "execution_count": null,
   "metadata": {
    "pycharm": {
     "name": "#%%\n"
    }
   },
   "outputs": [],
   "source": [
    "import juicebox_notebook\n",
    "\n",
    "juicebox_notebook.init()\n",
    "\n",
    "b = juicebox_notebook.Browser({})\n",
    "\n",
    "b.load_map({\n",
    "    \"url\": \"https://www.encodeproject.org/files/ENCFF718AWL/@@download/ENCFF718AWL.hic\",\n",
    "    \"name\": \"GM12878\"\n",
    "})\n",
    "\n",
    "b.load_track_list(\n",
    "    [{\n",
    "        \"url\": \"https://www.encodeproject.org/files/ENCFF000ARJ/@@download/ENCFF000ARJ.bigWig\",\n",
    "        \"name\": \"CTCF\",\n",
    "        \"color\": \"#ff8802\"\n",
    "    }]\n",
    ")\n",
    "\n",
    "\n"
   ]
  }
 ],
 "metadata": {
  "kernelspec": {
   "display_name": "Python 3 (ipykernel)",
   "language": "python",
   "name": "python3"
  },
  "language_info": {
   "codemirror_mode": {
    "name": "ipython",
    "version": 3
   },
   "file_extension": ".py",
   "mimetype": "text/x-python",
   "name": "python",
   "nbconvert_exporter": "python",
   "pygments_lexer": "ipython3",
   "version": "3.9.1"
  }
 },
 "nbformat": 4,
 "nbformat_minor": 2
}