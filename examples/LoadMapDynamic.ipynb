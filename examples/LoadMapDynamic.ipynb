{
 "cells": [
  {
   "cell_type": "code",
   "execution_count": 1,
   "metadata": {
    "pycharm": {
     "name": "#%%\n"
    }
   },
   "outputs": [],
   "source": [
    "import juicebox\n",
    "\n",
    "juicebox.init()\n",
    "\n",
    "b = juicebox.Browser({})\n",
    "\n",
    "b.load_map(\n",
    "    {\n",
    "         \"url\": \"https://www.encodeproject.org/files/ENCFF179HVU/@@download/ENCFF179HVU.hic\"\n",
    "    }\n",
    ")\n",
    "\n",
    "b.load_track(\n",
    "    {\n",
    "    \"url\": \"https://www.encodeproject.org/files/ENCFF000ARJ/@@download/ENCFF000ARJ.bigWig\",\n",
    "    \"name\": \"CTCF\",\n",
    "    \"color\": \"#ff8802\"\n",
    "    }\n",
    ")\n",
    "\n",
    "\n"
   ]
  }
 ],
 "metadata": {
  "kernelspec": {
   "display_name": "Python 3 (ipykernel)",
   "language": "python",
   "name": "python3"
  },
  "language_info": {
   "codemirror_mode": {
    "name": "ipython",
    "version": 3
   },
   "file_extension": ".py",
   "mimetype": "text/x-python",
   "name": "python",
   "nbconvert_exporter": "python",
   "pygments_lexer": "ipython3",
   "version": "3.9.1"
  }
 },
 "nbformat": 4,
 "nbformat_minor": 2
}